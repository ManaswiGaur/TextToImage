{
 "cells": [
  {
   "cell_type": "markdown",
   "id": "d615b2c5",
   "metadata": {},
   "source": [
    "# 🚀 Uncensored Text-to-Image and Text-to-Video Generation\n",
    "**Internship Assignment by Manaswi Gaur**\n",
    "\n",
    "This notebook demonstrates a simple uncensored text-to-image pipeline using Hugging Face `diffusers`, and an alternative text-to-video generation using Zeroscope (no ModelScope dependency)."
   ]
  },
  {
   "cell_type": "code",
   "execution_count": null,
   "id": "5338a0bd",
   "metadata": {},
   "outputs": [],
   "source": [
    "# ✅ Install Required Libraries\n",
    "!pip install --quiet diffusers transformers accelerate safetensors gradio einops"
   ]
  },
  {
   "cell_type": "code",
   "execution_count": null,
   "id": "e0a2b37c",
   "metadata": {},
   "outputs": [],
   "source": [
    "# ✅ Import Libraries and Check GPU\n",
    "import torch\n",
    "from diffusers import StableDiffusionPipeline\n",
    "\n",
    "device = \"cuda\" if torch.cuda.is_available() else \"cpu\"\n",
    "dtype = torch.float16 if device == \"cuda\" else torch.float32\n",
    "\n",
    "# ✅ Load the Uncensored Stable Diffusion Pipeline\n",
    "pipe = StableDiffusionPipeline.from_pretrained(\n",
    "    \"runwayml/stable-diffusion-v1-5\",\n",
    "    torch_dtype=dtype,\n",
    "    safety_checker=None\n",
    ").to(device)"
   ]
  },
  {
   "cell_type": "code",
   "execution_count": null,
   "id": "c99db2d0",
   "metadata": {},
   "outputs": [],
   "source": [
    "# ✅ Generate Image from Prompt\n",
    "prompt = \"a hyperrealistic female warrior in glowing armor, battlefield background\"\n",
    "image = pipe(prompt).images[0]\n",
    "image.save(\"output.png\")\n",
    "image"
   ]
  },
  {
   "cell_type": "markdown",
   "id": "1375a1eb",
   "metadata": {},
   "source": [
    "## 🎥 Text-to-Video Generation using Zeroscope"
   ]
  },
  {
   "cell_type": "code",
   "execution_count": null,
   "id": "0281072c",
   "metadata": {},
   "outputs": [],
   "source": [
    "# ✅ Load Zeroscope and Generate Video\n",
    "from diffusers import DiffusionPipeline\n",
    "pipe = DiffusionPipeline.from_pretrained(\n",
    "    \"cerspense/zeroscope_v2_576w\", \n",
    "    torch_dtype=torch.float16,\n",
    "    variant=\"fp16\"\n",
    ").to(\"cuda\")\n",
    "\n",
    "prompt = \"a futuristic robot walking through a neon-lit city at night\"\n",
    "video_frames = pipe(prompt, num_inference_steps=25).frames"
   ]
  },
  {
   "cell_type": "code",
   "execution_count": null,
   "id": "e698bf3c",
   "metadata": {},
   "outputs": [],
   "source": [
    "# ✅ Convert Frames to MP4 and Display\n",
    "import imageio\n",
    "from IPython.display import HTML\n",
    "from base64 import b64encode\n",
    "\n",
    "video_path = \"/content/generated_video.mp4\"\n",
    "imageio.mimsave(video_path, video_frames, fps=8)\n",
    "\n",
    "mp4 = open(video_path, 'rb').read()\n",
    "data_url = \"data:video/mp4;base64,\" + b64encode(mp4).decode()\n",
    "HTML(f'<video width=400 controls><source src=\"{data_url}\" type=\"video/mp4\"></video>')"
   ]
  },
  {
   "cell_type": "markdown",
   "id": "e1678f34",
   "metadata": {},
   "source": [
    "## ✅ Submission Checklist:\n",
    "- [x] Image generation via Stable Diffusion\n",
    "- [x] Working video generation via Zeroscope (no ModelScope)\n",
    "- [x] GPU compatibility in Google Colab\n",
    "- [x] Prompt samples and visuals provided"
   ]
  }
 ],
 "metadata": {},
 "nbformat": 4,
 "nbformat_minor": 5
}
